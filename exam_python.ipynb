{
  "cells": [
    {
      "cell_type": "markdown",
      "metadata": {
        "id": "view-in-github",
        "colab_type": "text"
      },
      "source": [
        "<a href=\"https://colab.research.google.com/github/AstridRombaut/-D012513A_Python_20230929/blob/main/exam_python.ipynb\" target=\"_parent\"><img src=\"https://colab.research.google.com/assets/colab-badge.svg\" alt=\"Open In Colab\"/></a>"
      ]
    },
    {
      "cell_type": "code",
      "execution_count": null,
      "id": "091354ed",
      "metadata": {
        "id": "091354ed"
      },
      "outputs": [],
      "source": [
        "import warnings;\n",
        "warnings.filterwarnings('ignore');\n",
        "\n",
        "import pandas as pd"
      ]
    },
    {
      "cell_type": "markdown",
      "id": "ee6c91c4",
      "metadata": {
        "id": "ee6c91c4"
      },
      "source": [
        "# Practical Python Specialized Bioinformatics\n",
        "\n",
        "#### 29/09/2023\n",
        "\n",
        "For this exam you are asked to complete the Python code between the\n",
        "\n",
        "```\n",
        "#start code here\n",
        "\n",
        "#end code here\n",
        "```\n",
        "\n",
        "comments.\n",
        "\n",
        "A direct question needs to be answered in the text field just below the question.\n",
        "\n",
        "Don't forget to periodically save your work to your GitHub repository.\n",
        "\n",
        "Please write your name and studentnumber in the text box below:"
      ]
    },
    {
      "cell_type": "markdown",
      "id": "26a37790",
      "metadata": {
        "id": "26a37790"
      },
      "source": [
        "### Name: Astrid Rombaut\n",
        "\n",
        "### Number:01609861"
      ]
    },
    {
      "cell_type": "markdown",
      "id": "0ee97f69",
      "metadata": {
        "id": "0ee97f69"
      },
      "source": [
        "### Total points:        / 20"
      ]
    },
    {
      "cell_type": "markdown",
      "id": "67886993",
      "metadata": {
        "id": "67886993"
      },
      "source": [
        "**question 1 (2pts)**\n",
        "\n",
        "Create a Pandas DataFrame called `letters` that looks like this:\n",
        "\n",
        "|   | letter_1 | letter_2 | letter_3 |\n",
        "|---|----------|----------|----------|\n",
        "| 0 | a        | d        | g        |\n",
        "| 1 | b        | e        | h        |\n",
        "| 2 | c        | f        | i        |"
      ]
    },
    {
      "cell_type": "code",
      "execution_count": 2,
      "id": "13ce1b31",
      "metadata": {
        "id": "13ce1b31",
        "colab": {
          "base_uri": "https://localhost:8080/",
          "height": 140
        },
        "outputId": "d866695a-3f15-499a-a70c-015ec0dafff9"
      },
      "outputs": [
        {
          "output_type": "error",
          "ename": "IndentationError",
          "evalue": "ignored",
          "traceback": [
            "\u001b[0;36m  File \u001b[0;32m\"<ipython-input-2-787ac658d2b6>\"\u001b[0;36m, line \u001b[0;32m6\u001b[0m\n\u001b[0;31m    numbers = pd.DataFrame(letters)\u001b[0m\n\u001b[0m    ^\u001b[0m\n\u001b[0;31mIndentationError\u001b[0m\u001b[0;31m:\u001b[0m unexpected indent\n"
          ]
        }
      ],
      "source": [
        "#start code here\n",
        "\n",
        "letters = {\"letter_1\": [\"a\", \"b\", \"c\"],\n",
        "           \"letter_2\": [\"d\", \"e\", \"f\"],\n",
        "           \"letter_3\":[\"g\", \"h\", \"i\"]}\n",
        "  numbers = pd.DataFrame(letters)\n",
        "  numbers.index =['0', '1', '2']\n",
        "\n",
        "#end code here\n",
        "\n",
        "letters"
      ]
    },
    {
      "cell_type": "markdown",
      "id": "e9298a19",
      "metadata": {
        "id": "e9298a19"
      },
      "source": [
        "**question 2 (1pt)**\n",
        "\n",
        "Use the Pandas DataFrame `.tail()` function to print the last two rows of the `letters` DataFrame."
      ]
    },
    {
      "cell_type": "code",
      "execution_count": 3,
      "id": "53a0fe40",
      "metadata": {
        "id": "53a0fe40",
        "colab": {
          "base_uri": "https://localhost:8080/",
          "height": 227
        },
        "outputId": "c1fa1656-6401-4c5c-ab96-7eb7b88a9bc2"
      },
      "outputs": [
        {
          "output_type": "error",
          "ename": "NameError",
          "evalue": "ignored",
          "traceback": [
            "\u001b[0;31m---------------------------------------------------------------------------\u001b[0m",
            "\u001b[0;31mNameError\u001b[0m                                 Traceback (most recent call last)",
            "\u001b[0;32m<ipython-input-3-1fc366eca833>\u001b[0m in \u001b[0;36m<cell line: 3>\u001b[0;34m()\u001b[0m\n\u001b[1;32m      1\u001b[0m \u001b[0;31m#start code here\u001b[0m\u001b[0;34m\u001b[0m\u001b[0;34m\u001b[0m\u001b[0m\n\u001b[1;32m      2\u001b[0m \u001b[0;34m\u001b[0m\u001b[0m\n\u001b[0;32m----> 3\u001b[0;31m \u001b[0mletters\u001b[0m\u001b[0;34m.\u001b[0m\u001b[0mtail\u001b[0m\u001b[0;34m(\u001b[0m\u001b[0;36m2\u001b[0m\u001b[0;34m,\u001b[0m\u001b[0;36m3\u001b[0m\u001b[0;34m)\u001b[0m\u001b[0;34m\u001b[0m\u001b[0;34m\u001b[0m\u001b[0m\n\u001b[0m\u001b[1;32m      4\u001b[0m \u001b[0;31m#end code here\u001b[0m\u001b[0;34m\u001b[0m\u001b[0;34m\u001b[0m\u001b[0m\n",
            "\u001b[0;31mNameError\u001b[0m: name 'letters' is not defined"
          ]
        }
      ],
      "source": [
        "#start code here\n",
        "\n",
        "letters.tail(2,3)\n",
        "#end code here"
      ]
    },
    {
      "cell_type": "markdown",
      "id": "c7a5c69b",
      "metadata": {
        "id": "c7a5c69b"
      },
      "source": [
        "**question 3 (1pt)**\n",
        "\n",
        "In `letters`, create a column `letters_2_3` that concatenates the letters in columns `letter_2` and `letter_3`. The result should look like this:\n",
        "\n",
        "|   | letter_1 | letter_2 | letter_3 | letter_2_3 |\n",
        "|---|----------|----------|----------|------------|\n",
        "| 0 | a        | d        | g        | dg         |\n",
        "| 1 | b        | e        | h        | eh         |\n",
        "| 2 | c        | f        | i        | fi         |"
      ]
    },
    {
      "cell_type": "code",
      "execution_count": null,
      "id": "b29ca249",
      "metadata": {
        "id": "b29ca249"
      },
      "outputs": [],
      "source": [
        "#start code here\n",
        "\n",
        "\n",
        "#end code here\n",
        "\n",
        "letters"
      ]
    },
    {
      "cell_type": "markdown",
      "id": "22a5d7bf",
      "metadata": {
        "id": "22a5d7bf"
      },
      "source": [
        "**question 4 (1pt)**\n",
        "\n",
        "Set the `letter_1` column as the index of the `letters` DataFrame."
      ]
    },
    {
      "cell_type": "code",
      "execution_count": null,
      "id": "9967ad32",
      "metadata": {
        "id": "9967ad32"
      },
      "outputs": [],
      "source": [
        "#start code here\n",
        "\n",
        "\n",
        "#end code here\n",
        "\n",
        "print(letters)"
      ]
    },
    {
      "cell_type": "markdown",
      "id": "c8ef0f59",
      "metadata": {
        "id": "c8ef0f59"
      },
      "source": [
        "**question 5 (1pt)**\n",
        "\n",
        "Use the DataFrame `.loc` to print the row with index 'b'."
      ]
    },
    {
      "cell_type": "code",
      "execution_count": null,
      "id": "c1fa567b",
      "metadata": {
        "id": "c1fa567b"
      },
      "outputs": [],
      "source": [
        "#start code here\n",
        "\n",
        "\n",
        "#end code here"
      ]
    },
    {
      "cell_type": "markdown",
      "id": "b6f7cdd9",
      "metadata": {
        "id": "b6f7cdd9"
      },
      "source": [
        "The following code loads the dataset we will use for this exam."
      ]
    },
    {
      "cell_type": "code",
      "execution_count": null,
      "id": "052146c0",
      "metadata": {
        "id": "052146c0"
      },
      "outputs": [],
      "source": [
        "from sklearn.datasets import load_breast_cancer\n",
        "dataset = load_breast_cancer(as_frame=True).frame\n",
        "dataset.rename(columns = {'target':'label'}, inplace = True)"
      ]
    },
    {
      "cell_type": "markdown",
      "id": "85a5fe48",
      "metadata": {
        "id": "85a5fe48"
      },
      "source": [
        "**question 6 (1pt)**\n",
        "\n",
        "Use one line of code to print the first, third and tenth row from the `dataset` DataFrame. Use `.iloc`."
      ]
    },
    {
      "cell_type": "code",
      "execution_count": null,
      "id": "bdf7b4ee",
      "metadata": {
        "id": "bdf7b4ee"
      },
      "outputs": [],
      "source": [
        "#start code here\n",
        "\n",
        "\n",
        "#end code here"
      ]
    },
    {
      "cell_type": "markdown",
      "id": "74899111",
      "metadata": {
        "id": "74899111"
      },
      "source": [
        "**question 7 (1pt)**\n",
        "\n",
        "Print the label of the last row in the `dataset` DataFrame."
      ]
    },
    {
      "cell_type": "code",
      "execution_count": null,
      "id": "b8d347a0",
      "metadata": {
        "id": "b8d347a0"
      },
      "outputs": [],
      "source": [
        "#start code here\n",
        "\n",
        "\n",
        "#end code here"
      ]
    },
    {
      "cell_type": "markdown",
      "id": "e4572d5f",
      "metadata": {
        "id": "e4572d5f"
      },
      "source": [
        "**question 8 (2pts)**\n",
        "\n",
        "Print all the rows in the `dataset` DataFrame with `worst texture` > 40 or `mean compactness` < 0.03."
      ]
    },
    {
      "cell_type": "code",
      "execution_count": null,
      "id": "ea1c4d32",
      "metadata": {
        "id": "ea1c4d32"
      },
      "outputs": [],
      "source": [
        "#start code here\n",
        "\n",
        "\n",
        "#end code here"
      ]
    },
    {
      "cell_type": "markdown",
      "id": "0a625d48",
      "metadata": {
        "id": "0a625d48"
      },
      "source": [
        "**question 9 (3pts)**\n",
        "\n",
        "Add a column `my_feature` to `dataset` that has value 1 if the value of the `mean radius` column is strictly lower than the value of the `mean texture` column, and has value 0 otherwise. Use the DataFrame `.apply()` function."
      ]
    },
    {
      "cell_type": "code",
      "execution_count": null,
      "id": "2646a5bd",
      "metadata": {
        "id": "2646a5bd"
      },
      "outputs": [],
      "source": [
        "#start code here\n",
        "\n",
        "\n",
        "#end code here\n",
        "\n",
        "print(dataset)"
      ]
    },
    {
      "cell_type": "markdown",
      "id": "973b3fcc",
      "metadata": {
        "id": "973b3fcc"
      },
      "source": [
        "The following code creates a Pandas DataFrame `X` that contains all the 31 features in `dataset` and a Pandas Series `y` that contains the label."
      ]
    },
    {
      "cell_type": "code",
      "execution_count": null,
      "id": "4c967ed2",
      "metadata": {
        "id": "4c967ed2"
      },
      "outputs": [],
      "source": [
        "X = dataset.copy()\n",
        "y = X.pop(\"label\")\n",
        "\n",
        "print(X.shape)\n",
        "print(y.shape)"
      ]
    },
    {
      "cell_type": "markdown",
      "id": "ceba47f8",
      "metadata": {
        "id": "ceba47f8"
      },
      "source": [
        "**question 10 (1pt)**\n",
        "\n",
        "Use the Scikit-learn `StandardScaler` to standardize the feature values in `X` (assign the result to `X_norm`)."
      ]
    },
    {
      "cell_type": "code",
      "execution_count": null,
      "id": "9c5c5ea7",
      "metadata": {
        "id": "9c5c5ea7"
      },
      "outputs": [],
      "source": [
        "from sklearn.preprocessing import StandardScaler\n",
        "\n",
        "#start code here\n",
        "\n",
        "X_norm =\n",
        "\n",
        "#start code here\n",
        "\n",
        "print(X_norm)"
      ]
    },
    {
      "cell_type": "markdown",
      "id": "ce1d5a1d",
      "metadata": {
        "id": "ce1d5a1d"
      },
      "source": [
        "**question 11 (2pts)**\n",
        "\n",
        "Apply the K-means clustering algorithm (set hyperparameter `random_state` to 1, leave all other hyperparameters to their default values) to cluster the feature vectors in `X_norm` into two groups. The result of the clustering (the cluster labels for each datapoint in `X_norm`) should be assigned to a variable called `kmeans_result`."
      ]
    },
    {
      "cell_type": "code",
      "execution_count": null,
      "id": "862ecdb0",
      "metadata": {
        "id": "862ecdb0"
      },
      "outputs": [],
      "source": [
        "from sklearn.cluster import KMeans\n",
        "\n",
        "#start code here\n",
        "\n",
        "\n",
        "kmeans_result =\n",
        "\n",
        "#end code here\n",
        "\n",
        "print(kmeans_result)"
      ]
    },
    {
      "cell_type": "markdown",
      "id": "744e101f",
      "metadata": {
        "id": "744e101f"
      },
      "source": [
        "**question 12 (1pt)**\n",
        "\n",
        "What does `kmeans_results` contain?"
      ]
    },
    {
      "cell_type": "markdown",
      "id": "d6566c1b",
      "metadata": {
        "id": "d6566c1b"
      },
      "source": [
        "*Answer here*\n",
        "\n"
      ]
    },
    {
      "cell_type": "markdown",
      "id": "496bc55d",
      "metadata": {
        "id": "496bc55d"
      },
      "source": [
        "**question 13 (2pts)**\n",
        "\n",
        "Reduce the dimension of the feature vectors in `X_norm` to 3 using the t-distributed Stochastic Neighbor Embedding (t-SNE) algorithm with the `perplexity` hyperparameter value set to 10. The result should be in `X_embedded`."
      ]
    },
    {
      "cell_type": "code",
      "execution_count": null,
      "id": "27ddbcd5",
      "metadata": {
        "id": "27ddbcd5"
      },
      "outputs": [],
      "source": [
        "from sklearn.manifold import TSNE\n",
        "\n",
        "#start code here\n",
        "\n",
        "\n",
        "X_embedded =\n",
        "\n",
        "#end code here\n",
        "\n",
        "print(X_embedded)"
      ]
    },
    {
      "cell_type": "markdown",
      "id": "fd007f82",
      "metadata": {
        "id": "fd007f82"
      },
      "source": [
        "**question 14 (1pt)**\n",
        "\n",
        "What does `X_embedded` contain?"
      ]
    },
    {
      "cell_type": "markdown",
      "id": "962dc171",
      "metadata": {
        "id": "962dc171"
      },
      "source": [
        "*Answer here*\n",
        "\n"
      ]
    },
    {
      "cell_type": "code",
      "execution_count": null,
      "id": "a51437ea",
      "metadata": {
        "id": "a51437ea"
      },
      "outputs": [],
      "source": []
    }
  ],
  "metadata": {
    "kernelspec": {
      "display_name": "Python 3 (ipykernel)",
      "language": "python",
      "name": "python3"
    },
    "language_info": {
      "codemirror_mode": {
        "name": "ipython",
        "version": 3
      },
      "file_extension": ".py",
      "mimetype": "text/x-python",
      "name": "python",
      "nbconvert_exporter": "python",
      "pygments_lexer": "ipython3",
      "version": "3.9.13"
    },
    "colab": {
      "provenance": [],
      "include_colab_link": true
    }
  },
  "nbformat": 4,
  "nbformat_minor": 5
}