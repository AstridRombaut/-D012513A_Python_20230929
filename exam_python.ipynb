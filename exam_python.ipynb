{
 "cells": [
  {
   "cell_type": "code",
   "execution_count": null,
   "id": "091354ed",
   "metadata": {},
   "outputs": [],
   "source": [
    "import warnings;\n",
    "warnings.filterwarnings('ignore');\n",
    "\n",
    "import pandas as pd"
   ]
  },
  {
   "cell_type": "markdown",
   "id": "ee6c91c4",
   "metadata": {},
   "source": [
    "# Practical Python Specialized Bioinformatics\n",
    "\n",
    "#### 29/09/2023\n",
    "\n",
    "For this exam you are asked to complete the Python code between the \n",
    "\n",
    "```\n",
    "#start code here\n",
    "\n",
    "#end code here\n",
    "```\n",
    "\n",
    "comments. \n",
    "\n",
    "A direct question needs to be answered in the text field just below the question.\n",
    "\n",
    "Don't forget to periodically save your work to your GitHub repository. \n",
    "\n",
    "Please write your name and studentnumber in the text box below:"
   ]
  },
  {
   "cell_type": "markdown",
   "id": "26a37790",
   "metadata": {},
   "source": [
    "### Name:\n",
    "\n",
    "### Number:"
   ]
  },
  {
   "cell_type": "markdown",
   "id": "0ee97f69",
   "metadata": {},
   "source": [
    "### Total points:        / 20"
   ]
  },
  {
   "cell_type": "markdown",
   "id": "67886993",
   "metadata": {},
   "source": [
    "**question 1 (2pts)**\n",
    "\n",
    "Create a Pandas DataFrame called `letters` that looks like this:\n",
    "\n",
    "|   | letter_1 | letter_2 | letter_3 |\n",
    "|---|----------|----------|----------|\n",
    "| 0 | a        | d        | g        |\n",
    "| 1 | b        | e        | h        |\n",
    "| 2 | c        | f        | i        |"
   ]
  },
  {
   "cell_type": "code",
   "execution_count": null,
   "id": "13ce1b31",
   "metadata": {},
   "outputs": [],
   "source": [
    "#start code here\n",
    "\n",
    "letters = \n",
    "\n",
    "#end code here\n",
    "\n",
    "letters"
   ]
  },
  {
   "cell_type": "markdown",
   "id": "e9298a19",
   "metadata": {},
   "source": [
    "**question 2 (1pt)**\n",
    "\n",
    "Use the Pandas DataFrame `.tail()` function to print the last two rows of the `letters` DataFrame."
   ]
  },
  {
   "cell_type": "code",
   "execution_count": null,
   "id": "53a0fe40",
   "metadata": {},
   "outputs": [],
   "source": [
    "#start code here\n",
    "\n",
    "\n",
    "#end code here"
   ]
  },
  {
   "cell_type": "markdown",
   "id": "c7a5c69b",
   "metadata": {},
   "source": [
    "**question 3 (1pt)**\n",
    "\n",
    "In `letters`, create a column `letters_2_3` that concatenates the letters in columns `letter_2` and `letter_3`. The result should look like this:\n",
    "\n",
    "|   | letter_1 | letter_2 | letter_3 | letter_2_3 |\n",
    "|---|----------|----------|----------|------------|\n",
    "| 0 | a        | d        | g        | dg         |\n",
    "| 1 | b        | e        | h        | eh         |\n",
    "| 2 | c        | f        | i        | fi         |"
   ]
  },
  {
   "cell_type": "code",
   "execution_count": null,
   "id": "b29ca249",
   "metadata": {},
   "outputs": [],
   "source": [
    "#start code here\n",
    "\n",
    "\n",
    "#end code here\n",
    "\n",
    "letters"
   ]
  },
  {
   "cell_type": "markdown",
   "id": "22a5d7bf",
   "metadata": {},
   "source": [
    "**question 4 (1pt)**\n",
    "\n",
    "Set the `letter_1` column as the index of the `letters` DataFrame."
   ]
  },
  {
   "cell_type": "code",
   "execution_count": null,
   "id": "9967ad32",
   "metadata": {},
   "outputs": [],
   "source": [
    "#start code here\n",
    "\n",
    "\n",
    "#end code here\n",
    "\n",
    "print(letters)"
   ]
  },
  {
   "cell_type": "markdown",
   "id": "c8ef0f59",
   "metadata": {},
   "source": [
    "**question 5 (1pt)**\n",
    "\n",
    "Use the DataFrame `.loc` to print the row with index 'b'."
   ]
  },
  {
   "cell_type": "code",
   "execution_count": null,
   "id": "c1fa567b",
   "metadata": {},
   "outputs": [],
   "source": [
    "#start code here\n",
    "\n",
    "\n",
    "#end code here"
   ]
  },
  {
   "cell_type": "markdown",
   "id": "b6f7cdd9",
   "metadata": {},
   "source": [
    "The following code loads the dataset we will use for this exam."
   ]
  },
  {
   "cell_type": "code",
   "execution_count": null,
   "id": "052146c0",
   "metadata": {},
   "outputs": [],
   "source": [
    "from sklearn.datasets import load_breast_cancer\n",
    "dataset = load_breast_cancer(as_frame=True).frame\n",
    "dataset.rename(columns = {'target':'label'}, inplace = True)"
   ]
  },
  {
   "cell_type": "markdown",
   "id": "85a5fe48",
   "metadata": {},
   "source": [
    "**question 6 (1pt)**\n",
    "\n",
    "Use one line of code to print the first, third and tenth row from the `dataset` DataFrame. Use `.iloc`."
   ]
  },
  {
   "cell_type": "code",
   "execution_count": null,
   "id": "bdf7b4ee",
   "metadata": {},
   "outputs": [],
   "source": [
    "#start code here\n",
    "\n",
    "\n",
    "#end code here"
   ]
  },
  {
   "cell_type": "markdown",
   "id": "74899111",
   "metadata": {},
   "source": [
    "**question 7 (1pt)**\n",
    "\n",
    "Print the label of the last row in the `dataset` DataFrame."
   ]
  },
  {
   "cell_type": "code",
   "execution_count": null,
   "id": "b8d347a0",
   "metadata": {},
   "outputs": [],
   "source": [
    "#start code here\n",
    "\n",
    "\n",
    "#end code here"
   ]
  },
  {
   "cell_type": "markdown",
   "id": "e4572d5f",
   "metadata": {},
   "source": [
    "**question 8 (2pts)**\n",
    "\n",
    "Print all the rows in the `dataset` DataFrame with `worst texture` > 40 or `mean compactness` < 0.03."
   ]
  },
  {
   "cell_type": "code",
   "execution_count": null,
   "id": "ea1c4d32",
   "metadata": {},
   "outputs": [],
   "source": [
    "#start code here\n",
    "\n",
    "\n",
    "#end code here"
   ]
  },
  {
   "cell_type": "markdown",
   "id": "0a625d48",
   "metadata": {},
   "source": [
    "**question 9 (3pts)**\n",
    "\n",
    "Add a column `my_feature` to `dataset` that has value 1 if the value of the `mean radius` column is strictly lower than the value of the `mean texture` column, and has value 0 otherwise. Use the DataFrame `.apply()` function."
   ]
  },
  {
   "cell_type": "code",
   "execution_count": null,
   "id": "2646a5bd",
   "metadata": {},
   "outputs": [],
   "source": [
    "#start code here\n",
    "\n",
    "    \n",
    "#end code here\n",
    "\n",
    "print(dataset)"
   ]
  },
  {
   "cell_type": "markdown",
   "id": "973b3fcc",
   "metadata": {},
   "source": [
    "The following code creates a Pandas DataFrame `X` that contains all the 31 features in `dataset` and a Pandas Series `y` that contains the label."
   ]
  },
  {
   "cell_type": "code",
   "execution_count": null,
   "id": "4c967ed2",
   "metadata": {},
   "outputs": [],
   "source": [
    "X = dataset.copy()\n",
    "y = X.pop(\"label\")\n",
    "\n",
    "print(X.shape)\n",
    "print(y.shape)"
   ]
  },
  {
   "cell_type": "markdown",
   "id": "ceba47f8",
   "metadata": {},
   "source": [
    "**question 10 (1pt)**\n",
    "\n",
    "Use the Scikit-learn `StandardScaler` to standardize the feature values in `X` (assign the result to `X_norm`)."
   ]
  },
  {
   "cell_type": "code",
   "execution_count": null,
   "id": "9c5c5ea7",
   "metadata": {},
   "outputs": [],
   "source": [
    "from sklearn.preprocessing import StandardScaler\n",
    "\n",
    "#start code here\n",
    "\n",
    "X_norm = \n",
    "\n",
    "#start code here\n",
    "\n",
    "print(X_norm)"
   ]
  },
  {
   "cell_type": "markdown",
   "id": "ce1d5a1d",
   "metadata": {},
   "source": [
    "**question 11 (2pts)**\n",
    "\n",
    "Apply the K-means clustering algorithm (set hyperparameter `random_state` to 1, leave all other hyperparameters to their default values) to cluster the feature vectors in `X_norm` into two groups. The result of the clustering (the cluster labels for each datapoint in `X_norm`) should be assigned to a variable called `kmeans_result`."
   ]
  },
  {
   "cell_type": "code",
   "execution_count": null,
   "id": "862ecdb0",
   "metadata": {},
   "outputs": [],
   "source": [
    "from sklearn.cluster import KMeans\n",
    "\n",
    "#start code here\n",
    "\n",
    "\n",
    "kmeans_result = \n",
    "\n",
    "#end code here\n",
    "\n",
    "print(kmeans_result)"
   ]
  },
  {
   "cell_type": "markdown",
   "id": "744e101f",
   "metadata": {},
   "source": [
    "**question 12 (1pt)**\n",
    "\n",
    "What does `kmeans_results` contain?"
   ]
  },
  {
   "cell_type": "markdown",
   "id": "d6566c1b",
   "metadata": {},
   "source": [
    "*Answer here*\n",
    "\n"
   ]
  },
  {
   "cell_type": "markdown",
   "id": "496bc55d",
   "metadata": {},
   "source": [
    "**question 13 (2pts)**\n",
    "\n",
    "Reduce the dimension of the feature vectors in `X_norm` to 3 using the t-distributed Stochastic Neighbor Embedding (t-SNE) algorithm with the `perplexity` hyperparameter value set to 10. The result should be in `X_embedded`."
   ]
  },
  {
   "cell_type": "code",
   "execution_count": null,
   "id": "27ddbcd5",
   "metadata": {},
   "outputs": [],
   "source": [
    "from sklearn.manifold import TSNE\n",
    "\n",
    "#start code here\n",
    "\n",
    "\n",
    "X_embedded = \n",
    "\n",
    "#end code here\n",
    "\n",
    "print(X_embedded)"
   ]
  },
  {
   "cell_type": "markdown",
   "id": "fd007f82",
   "metadata": {},
   "source": [
    "**question 14 (1pt)**\n",
    "\n",
    "What does `X_embedded` contain?"
   ]
  },
  {
   "cell_type": "markdown",
   "id": "962dc171",
   "metadata": {},
   "source": [
    "*Answer here*\n",
    "\n"
   ]
  },
  {
   "cell_type": "code",
   "execution_count": null,
   "id": "a51437ea",
   "metadata": {},
   "outputs": [],
   "source": []
  }
 ],
 "metadata": {
  "kernelspec": {
   "display_name": "Python 3 (ipykernel)",
   "language": "python",
   "name": "python3"
  },
  "language_info": {
   "codemirror_mode": {
    "name": "ipython",
    "version": 3
   },
   "file_extension": ".py",
   "mimetype": "text/x-python",
   "name": "python",
   "nbconvert_exporter": "python",
   "pygments_lexer": "ipython3",
   "version": "3.9.13"
  }
 },
 "nbformat": 4,
 "nbformat_minor": 5
}
